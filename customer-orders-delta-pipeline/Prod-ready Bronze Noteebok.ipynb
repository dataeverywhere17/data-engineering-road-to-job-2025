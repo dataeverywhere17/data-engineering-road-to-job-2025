{
 "cells": [
  {
   "cell_type": "markdown",
   "metadata": {
    "application/vnd.databricks.v1+cell": {
     "cellMetadata": {},
     "inputWidgets": {},
     "nuid": "5e45d184-1c7c-46f9-9853-49e200e51d8c",
     "showTitle": false,
     "tableResultSettingsMap": {},
     "title": ""
    }
   },
   "source": [
    "Creating prod ready dynamic codeblocks to have modular and reusable code blocks\n"
   ]
  },
  {
   "cell_type": "code",
   "execution_count": 0,
   "metadata": {
    "application/vnd.databricks.v1+cell": {
     "cellMetadata": {
      "byteLimit": 2048000,
      "rowLimit": 10000
     },
     "inputWidgets": {},
     "nuid": "f838808b-a242-4814-9bf5-1915f71bab67",
     "showTitle": false,
     "tableResultSettingsMap": {},
     "title": ""
    }
   },
   "outputs": [],
   "source": [
    "raw_path=\"dbfs:/FileStore/tables/orders.csv\"\n",
    "bronze_path=\"/tmp/bronze/orders\""
   ]
  },
  {
   "cell_type": "markdown",
   "metadata": {
    "application/vnd.databricks.v1+cell": {
     "cellMetadata": {},
     "inputWidgets": {},
     "nuid": "76b23221-2e4d-4820-87ea-00a40098438b",
     "showTitle": false,
     "tableResultSettingsMap": {},
     "title": ""
    }
   },
   "source": [
    "**Step 2: **\n",
    "Read the CSV into the Dataframe"
   ]
  },
  {
   "cell_type": "code",
   "execution_count": 0,
   "metadata": {
    "application/vnd.databricks.v1+cell": {
     "cellMetadata": {
      "byteLimit": 2048000,
      "rowLimit": 10000
     },
     "inputWidgets": {},
     "nuid": "ebdfcb26-8479-43c3-96d8-5fe7908ee59b",
     "showTitle": false,
     "tableResultSettingsMap": {},
     "title": ""
    }
   },
   "outputs": [
    {
     "output_type": "stream",
     "name": "stdout",
     "output_type": "stream",
     "text": [
      "+--------+-----------+----------+---------+------------+\n|order_id|customer_id|order_date|   status|total_amount|\n+--------+-----------+----------+---------+------------+\n|    1001|        201|2024-05-01|  Shipped|       250.5|\n|    1002|        202|2024-05-02|  Pending|       120.0|\n|    1003|        203|2024-05-02|Delivered|       300.0|\n|    1004|        204|2024-05-03|  Shipped|      175.75|\n|    1005|        205|2024-05-03|Cancelled|        90.0|\n+--------+-----------+----------+---------+------------+\n\nroot\n |-- order_id: string (nullable = true)\n |-- customer_id: string (nullable = true)\n |-- order_date: string (nullable = true)\n |-- status: string (nullable = true)\n |-- total_amount: string (nullable = true)\n\n"
     ]
    }
   ],
   "source": [
    "df_raw= spark.read.option(\"header\",True).csv(raw_path)\n",
    "df_raw.show()\n",
    "df_raw.printSchema()"
   ]
  },
  {
   "cell_type": "markdown",
   "metadata": {
    "application/vnd.databricks.v1+cell": {
     "cellMetadata": {},
     "inputWidgets": {},
     "nuid": "76aa02a7-21b1-4337-8349-c8d7d3675b44",
     "showTitle": false,
     "tableResultSettingsMap": {},
     "title": ""
    }
   },
   "source": [
    "**Step3:** Quick Quality Checks"
   ]
  },
  {
   "cell_type": "code",
   "execution_count": 0,
   "metadata": {
    "application/vnd.databricks.v1+cell": {
     "cellMetadata": {
      "byteLimit": 2048000,
      "rowLimit": 10000
     },
     "inputWidgets": {},
     "nuid": "af1e4730-cf15-4439-8e52-e06727aa080a",
     "showTitle": false,
     "tableResultSettingsMap": {},
     "title": ""
    }
   },
   "outputs": [
    {
     "output_type": "stream",
     "name": "stdout",
     "output_type": "stream",
     "text": [
      "Row count: 5\n+---------+\n|   status|\n+---------+\n|  Shipped|\n|Cancelled|\n|Delivered|\n|  Pending|\n+---------+\n\n"
     ]
    }
   ],
   "source": [
    "print(\"Row count:\", df_raw.count())\n",
    "df_raw.select(\"status\").distinct().show()"
   ]
  },
  {
   "cell_type": "markdown",
   "metadata": {
    "application/vnd.databricks.v1+cell": {
     "cellMetadata": {},
     "inputWidgets": {},
     "nuid": "fd417ba8-58c3-4e41-905a-c0db5fded527",
     "showTitle": false,
     "tableResultSettingsMap": {},
     "title": ""
    }
   },
   "source": [
    "**Step 4:**\n",
    "Writing to Delta format"
   ]
  },
  {
   "cell_type": "code",
   "execution_count": 0,
   "metadata": {
    "application/vnd.databricks.v1+cell": {
     "cellMetadata": {
      "byteLimit": 2048000,
      "rowLimit": 10000
     },
     "inputWidgets": {},
     "nuid": "f0616513-9868-4ac0-a1df-dd342e3a6358",
     "showTitle": false,
     "tableResultSettingsMap": {},
     "title": ""
    }
   },
   "outputs": [],
   "source": [
    "df_raw.write.format(\"delta\").mode(\"overwrite\").save(bronze_path)"
   ]
  },
  {
   "cell_type": "markdown",
   "metadata": {
    "application/vnd.databricks.v1+cell": {
     "cellMetadata": {},
     "inputWidgets": {},
     "nuid": "9ac151c7-508f-4560-8479-43d4fecd6f12",
     "showTitle": false,
     "tableResultSettingsMap": {},
     "title": ""
    }
   },
   "source": [
    "This ensures the data is stored in delta lake format which is versioned, supports ACID transactions and is Highly optimised for powerbi, fabric, spark\n"
   ]
  },
  {
   "cell_type": "markdown",
   "metadata": {
    "application/vnd.databricks.v1+cell": {
     "cellMetadata": {},
     "inputWidgets": {},
     "nuid": "120cc1f0-5567-4a9f-a86c-c032aea23df1",
     "showTitle": false,
     "tableResultSettingsMap": {},
     "title": ""
    }
   },
   "source": [
    "**Step 5**\n",
    "Reading it back and validating"
   ]
  },
  {
   "cell_type": "code",
   "execution_count": 0,
   "metadata": {
    "application/vnd.databricks.v1+cell": {
     "cellMetadata": {
      "byteLimit": 2048000,
      "rowLimit": 10000
     },
     "inputWidgets": {},
     "nuid": "e3bcc892-4675-4108-8819-ee20beee9e67",
     "showTitle": false,
     "tableResultSettingsMap": {},
     "title": ""
    }
   },
   "outputs": [
    {
     "output_type": "stream",
     "name": "stdout",
     "output_type": "stream",
     "text": [
      "+--------+-----------+----------+---------+------------+\n|order_id|customer_id|order_date|   status|total_amount|\n+--------+-----------+----------+---------+------------+\n|    1001|        201|2024-05-01|  Shipped|       250.5|\n|    1002|        202|2024-05-02|  Pending|       120.0|\n|    1003|        203|2024-05-02|Delivered|       300.0|\n|    1004|        204|2024-05-03|  Shipped|      175.75|\n|    1005|        205|2024-05-03|Cancelled|        90.0|\n+--------+-----------+----------+---------+------------+\n\n"
     ]
    }
   ],
   "source": [
    "df_bronze=spark.read.format(\"delta\").load(bronze_path)\n",
    "df_bronze.show()"
   ]
  },
  {
   "cell_type": "code",
   "execution_count": 0,
   "metadata": {
    "application/vnd.databricks.v1+cell": {
     "cellMetadata": {},
     "inputWidgets": {},
     "nuid": "8829939b-c469-4391-af80-c65f19ddf2df",
     "showTitle": false,
     "tableResultSettingsMap": {},
     "title": ""
    }
   },
   "outputs": [],
   "source": [
    "def load_csv(path):\n",
    "    return spark.read.option(\"header\", True).csv(path)\n",
    "def write_delta(df,path)):\n",
    "    return df.write.format(\"delta\").mode(\"overwrite\").save(path)\n"
   ]
  }
 ],
 "metadata": {
  "application/vnd.databricks.v1+notebook": {
   "computePreferences": null,
   "dashboards": [],
   "environmentMetadata": {
    "base_environment": "",
    "environment_version": "1"
   },
   "inputWidgetPreferences": null,
   "language": "python",
   "notebookMetadata": {
    "pythonIndentUnit": 4
   },
   "notebookName": "Prod-ready Bronze Noteebok",
   "widgets": {}
  }
 },
 "nbformat": 4,
 "nbformat_minor": 0
}