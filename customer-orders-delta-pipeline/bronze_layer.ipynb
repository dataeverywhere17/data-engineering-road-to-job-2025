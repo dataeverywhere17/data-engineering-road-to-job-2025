{
 "cells": [
  {
   "cell_type": "markdown",
   "metadata": {
    "application/vnd.databricks.v1+cell": {
     "cellMetadata": {},
     "inputWidgets": {},
     "nuid": "f697053b-4628-4865-9a62-abaab13aeca4",
     "showTitle": false,
     "tableResultSettingsMap": {},
     "title": ""
    }
   },
   "source": [
    "Reading the file using pyspark\n"
   ]
  },
  {
   "cell_type": "code",
   "execution_count": 0,
   "metadata": {
    "application/vnd.databricks.v1+cell": {
     "cellMetadata": {
      "byteLimit": 2048000,
      "rowLimit": 10000
     },
     "inputWidgets": {},
     "nuid": "14d78a22-d577-4ad4-ae21-af40634ea062",
     "showTitle": false,
     "tableResultSettingsMap": {},
     "title": ""
    }
   },
   "outputs": [
    {
     "output_type": "stream",
     "name": "stdout",
     "output_type": "stream",
     "text": [
      "+--------+-----------+----------+---------+------------+\n|order_id|customer_id|order_date|   status|total_amount|\n+--------+-----------+----------+---------+------------+\n|    1001|        201|2024-05-01|  Shipped|       250.5|\n|    1002|        202|2024-05-02|  Pending|       120.0|\n|    1003|        203|2024-05-02|Delivered|       300.0|\n|    1004|        204|2024-05-03|  Shipped|      175.75|\n|    1005|        205|2024-05-03|Cancelled|        90.0|\n+--------+-----------+----------+---------+------------+\n\n"
     ]
    }
   ],
   "source": [
    "file_path= \"/FileStore/tables/orders-1.csv\"\n",
    "\n",
    "df=spark.read.option(\"header\",True).csv(file_path)\n",
    "df.show()"
   ]
  },
  {
   "cell_type": "markdown",
   "metadata": {
    "application/vnd.databricks.v1+cell": {
     "cellMetadata": {},
     "inputWidgets": {},
     "nuid": "658e5b14-af8b-4d15-944d-ad0779ef8f0a",
     "showTitle": false,
     "tableResultSettingsMap": {},
     "title": ""
    }
   },
   "source": [
    "Saving it as delta format"
   ]
  },
  {
   "cell_type": "code",
   "execution_count": 0,
   "metadata": {
    "application/vnd.databricks.v1+cell": {
     "cellMetadata": {
      "byteLimit": 2048000,
      "rowLimit": 10000
     },
     "inputWidgets": {},
     "nuid": "e0a17ce4-64d6-417b-9632-73f4e858288b",
     "showTitle": false,
     "tableResultSettingsMap": {},
     "title": ""
    }
   },
   "outputs": [],
   "source": [
    "df.write.format(\"delta\").mode(\"overwrite\").save(\"/tmp/bronze/orders\")\n",
    "\n"
   ]
  },
  {
   "cell_type": "markdown",
   "metadata": {
    "application/vnd.databricks.v1+cell": {
     "cellMetadata": {},
     "inputWidgets": {},
     "nuid": "aad04c8c-08e9-4039-938b-138053d80ef2",
     "showTitle": false,
     "tableResultSettingsMap": {},
     "title": ""
    }
   },
   "source": [
    "Verifying"
   ]
  },
  {
   "cell_type": "code",
   "execution_count": 0,
   "metadata": {
    "application/vnd.databricks.v1+cell": {
     "cellMetadata": {
      "byteLimit": 2048000,
      "rowLimit": 10000
     },
     "inputWidgets": {},
     "nuid": "651f99f0-b756-4977-89d8-a5eebf1be534",
     "showTitle": false,
     "tableResultSettingsMap": {},
     "title": ""
    }
   },
   "outputs": [
    {
     "output_type": "stream",
     "name": "stdout",
     "output_type": "stream",
     "text": [
      "+--------+-----------+----------+---------+------------+\n|order_id|customer_id|order_date|   status|total_amount|\n+--------+-----------+----------+---------+------------+\n|    1001|        201|2024-05-01|  Shipped|       250.5|\n|    1002|        202|2024-05-02|  Pending|       120.0|\n|    1003|        203|2024-05-02|Delivered|       300.0|\n|    1004|        204|2024-05-03|  Shipped|      175.75|\n|    1005|        205|2024-05-03|Cancelled|        90.0|\n+--------+-----------+----------+---------+------------+\n\n"
     ]
    }
   ],
   "source": [
    "bronze_df=spark.read.format(\"delta\").load(\"/tmp/bronze/orders\")\n",
    "bronze_df.show()"
   ]
  }
 ],
 "metadata": {
  "application/vnd.databricks.v1+notebook": {
   "computePreferences": null,
   "dashboards": [],
   "environmentMetadata": {
    "base_environment": "",
    "environment_version": "1"
   },
   "inputWidgetPreferences": null,
   "language": "python",
   "notebookMetadata": {
    "pythonIndentUnit": 4
   },
   "notebookName": "bronze_layer",
   "widgets": {}
  }
 },
 "nbformat": 4,
 "nbformat_minor": 0
}